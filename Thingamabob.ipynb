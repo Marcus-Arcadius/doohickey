{
  "nbformat": 4,
  "nbformat_minor": 0,
  "metadata": {
    "colab": {
      "provenance": [],
      "collapsed_sections": []
    },
    "kernelspec": {
      "name": "python3",
      "display_name": "Python 3"
    },
    "language_info": {
      "name": "python"
    }
  },
  "cells": [
    {
      "cell_type": "markdown",
      "source": [
        "# Thingamabob (model fuser)\n",
        "\n",
        "by [aicrumb](https://twitter.com/aicrumb)\n",
        "\n",
        "Fuse two Stable Diffusion models into one, ready to use with Doohickey! (or any other diffusers-based Stable Diffusion interface)"
      ],
      "metadata": {
        "id": "TL7IrdlMNznI"
      }
    },
    {
      "cell_type": "code",
      "source": [
        "#@title Installation / Log in to 🤗\n",
        "import os\n",
        "from IPython.display import clear_output\n",
        "import time\n",
        "if not os.path.exists(\"installed.txt\"):\n",
        "    !pip install transformers diffusers -q\n",
        "    !sudo apt-get install git-lfs\n",
        "    !mkdir /content/output\n",
        "    print(\"Installed libraries\")\n",
        "    time.sleep(1)\n",
        "    clear_output(wait=False)\n",
        "\n",
        "from huggingface_hub import notebook_login\n",
        "notebook_login()"
      ],
      "metadata": {
        "cellView": "form",
        "id": "g-l1jekENvYY"
      },
      "execution_count": null,
      "outputs": []
    },
    {
      "cell_type": "code",
      "source": [
        "#@title Load Models\n",
        "# model fuser\n",
        "from huggingface_hub import hf_hub_download\n",
        "from diffusers import UNet2DConditionModel\n",
        "import os \n",
        "import torch\n",
        "\n",
        "if not os.path.exists(\"convert.py\"):\n",
        "    !pip install OmegaConf -q\n",
        "    !curl https://raw.githubusercontent.com/huggingface/diffusers/main/scripts/convert_original_stable_diffusion_to_diffusers.py > convert.py\n",
        "\n",
        "#@markdown put your model names here with a comma separating them (either `user/id/filename.ckpt` for CompVis style, or `user/id` for Diffusers style)\n",
        "model_names_ = \"naclbit/trinart_stable_diffusion_v2/trinart2_step115000.ckpt, hakurei/waifu-diffusion\" #@param {\"type\":\"string\"}\n",
        "model_names = [i.strip() for i in model_names_.split(\",\")]\n",
        "unets = []\n",
        "for i in model_names:\n",
        "    print(i)\n",
        "    if \".ckpt\" in i:\n",
        "        repo_id = \"/\".join(i.split(\"/\")[:2])\n",
        "        filename = \"/\".join(i.split(\"/\")[2:])\n",
        "        print(\"downloading model...\")\n",
        "        compvis_path = hf_hub_download(repo_id=repo_id, filename=filename)\n",
        "        print(\"creating diffusers-style model... (this will take a while)\")\n",
        "        !python convert.py --checkpoint_path \"$compvis_path\" --dump_path \"temp-model\"\n",
        "        !rm -r \"$compvis_path\"\n",
        "        model_name = \"temp-model/unet\"\n",
        "    unets.append(UNet2DConditionModel.from_pretrained(model_name).half())\n",
        "clear_output(wait=False)"
      ],
      "metadata": {
        "cellView": "form",
        "id": "qUmTaGscN10C"
      },
      "execution_count": null,
      "outputs": []
    },
    {
      "cell_type": "code",
      "source": [
        "#@title Mix! 🍲\n",
        "theta_0 = unets[0].state_dict()\n",
        "theta_1 = unets[1].state_dict()\n",
        "alpha = 0.5 #@param\n",
        "\n",
        "for key in theta_0.keys():\n",
        "    if 'model' in key and key in theta_1:\n",
        "        theta_0[key] = (1-alpha) * theta_0[key] + alpha * theta_1[key]\n",
        "\n",
        "for key in theta_1.keys():\n",
        "    if 'model' in key and key not in theta_0:\n",
        "        theta_0[key] = theta_1[key]\n",
        "\n",
        "del theta_1 \n",
        "del unets[1]\n",
        "\n",
        "# just in case idk\n",
        "import gc\n",
        "gc.collect()\n",
        "\n",
        "unets[0].load_state_dict(theta_0)\n",
        "unets[0].save_pretrained(\"/content/temp-model/unet\")"
      ],
      "metadata": {
        "cellView": "form",
        "id": "p2YLEuVVN3QY"
      },
      "execution_count": null,
      "outputs": []
    },
    {
      "cell_type": "code",
      "source": [
        "#@title Push to 🤗 hub.\n",
        "#@markdown make the repository before running this cell\n",
        "\n",
        "from huggingface_hub import HfApi\n",
        "api = HfApi()\n",
        "\n",
        "repo = \"crumb/trinart-waifu-diffusion-mix\" #@param {\"type\":\"string\"}\n",
        "\n",
        "readme = f\"\"\"\n",
        "---\n",
        "language:\n",
        "- en\n",
        "tags:\n",
        "- stable-diffusion\n",
        "- text-to-image\n",
        "license: bigscience-bloom-rail-1.0\n",
        "inference: false\n",
        "\n",
        "---\n",
        "\n",
        "# {repo}\n",
        "---\n",
        "This is a fusion of {model_names_} made with Doohickey-Thingamabob, alpha {alpha}.\n",
        "\"\"\"\n",
        "open(\"/content/temp-model/README.md\", \"w\").write(readme)\n",
        "\n",
        "api.upload_folder(\n",
        "    folder_path=\"/content/temp-model\",\n",
        "    path_in_repo=\"\",\n",
        "    repo_id=repo,\n",
        "    repo_type=\"model\",\n",
        "    ignore_patterns=\"**/logs/*.txt\",\n",
        ")"
      ],
      "metadata": {
        "cellView": "form",
        "id": "yNogSTIQN4wg"
      },
      "execution_count": null,
      "outputs": []
    },
    {
      "cell_type": "markdown",
      "source": [
        "if this was used inside the doohickey notebook, before running other cells, you may want to restart the runtime / possibly factory restart to get rid of un-used files."
      ],
      "metadata": {
        "id": "hnkIuFsAN7ml"
      }
    }
  ]
}